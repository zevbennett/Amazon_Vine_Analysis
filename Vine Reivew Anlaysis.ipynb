{
 "cells": [
  {
   "cell_type": "code",
   "execution_count": 2,
   "id": "086e5f22",
   "metadata": {},
   "outputs": [],
   "source": [
    "import pandas as pd"
   ]
  },
  {
   "cell_type": "code",
   "execution_count": 31,
   "id": "a327e3a8",
   "metadata": {},
   "outputs": [],
   "source": [
    "df = pd.read_csv(\"./vine_table.csv\")"
   ]
  },
  {
   "cell_type": "code",
   "execution_count": 32,
   "id": "d9d6ad73",
   "metadata": {
    "scrolled": false
   },
   "outputs": [
    {
     "data": {
      "text/html": [
       "<div>\n",
       "<style scoped>\n",
       "    .dataframe tbody tr th:only-of-type {\n",
       "        vertical-align: middle;\n",
       "    }\n",
       "\n",
       "    .dataframe tbody tr th {\n",
       "        vertical-align: top;\n",
       "    }\n",
       "\n",
       "    .dataframe thead th {\n",
       "        text-align: right;\n",
       "    }\n",
       "</style>\n",
       "<table border=\"1\" class=\"dataframe\">\n",
       "  <thead>\n",
       "    <tr style=\"text-align: right;\">\n",
       "      <th></th>\n",
       "      <th>review_id</th>\n",
       "      <th>star_rating</th>\n",
       "      <th>helpful_votes</th>\n",
       "      <th>total_votes</th>\n",
       "      <th>vine</th>\n",
       "      <th>verified_purchase</th>\n",
       "    </tr>\n",
       "  </thead>\n",
       "  <tbody>\n",
       "    <tr>\n",
       "      <th>0</th>\n",
       "      <td>RMDCHWD0Y5OZ9</td>\n",
       "      <td>3.0</td>\n",
       "      <td>0.0</td>\n",
       "      <td>1.0</td>\n",
       "      <td>N</td>\n",
       "      <td>N</td>\n",
       "    </tr>\n",
       "    <tr>\n",
       "      <th>1</th>\n",
       "      <td>RZSL0BALIYUNU</td>\n",
       "      <td>5.0</td>\n",
       "      <td>0.0</td>\n",
       "      <td>0.0</td>\n",
       "      <td>N</td>\n",
       "      <td>Y</td>\n",
       "    </tr>\n",
       "    <tr>\n",
       "      <th>2</th>\n",
       "      <td>RIZR67JKUDBI0</td>\n",
       "      <td>3.0</td>\n",
       "      <td>0.0</td>\n",
       "      <td>1.0</td>\n",
       "      <td>N</td>\n",
       "      <td>Y</td>\n",
       "    </tr>\n",
       "    <tr>\n",
       "      <th>3</th>\n",
       "      <td>R27HL570VNL85F</td>\n",
       "      <td>5.0</td>\n",
       "      <td>0.0</td>\n",
       "      <td>0.0</td>\n",
       "      <td>N</td>\n",
       "      <td>Y</td>\n",
       "    </tr>\n",
       "    <tr>\n",
       "      <th>4</th>\n",
       "      <td>R34EBU9QDWJ1GD</td>\n",
       "      <td>5.0</td>\n",
       "      <td>0.0</td>\n",
       "      <td>0.0</td>\n",
       "      <td>N</td>\n",
       "      <td>Y</td>\n",
       "    </tr>\n",
       "    <tr>\n",
       "      <th>...</th>\n",
       "      <td>...</td>\n",
       "      <td>...</td>\n",
       "      <td>...</td>\n",
       "      <td>...</td>\n",
       "      <td>...</td>\n",
       "      <td>...</td>\n",
       "    </tr>\n",
       "    <tr>\n",
       "      <th>904760</th>\n",
       "      <td>R6MDTUK723YPY</td>\n",
       "      <td>4.0</td>\n",
       "      <td>143.0</td>\n",
       "      <td>148.0</td>\n",
       "      <td>N</td>\n",
       "      <td>N</td>\n",
       "    </tr>\n",
       "    <tr>\n",
       "      <th>904761</th>\n",
       "      <td>R10B4417NCK98O</td>\n",
       "      <td>5.0</td>\n",
       "      <td>24.0</td>\n",
       "      <td>24.0</td>\n",
       "      <td>N</td>\n",
       "      <td>N</td>\n",
       "    </tr>\n",
       "    <tr>\n",
       "      <th>904762</th>\n",
       "      <td>R3V2A0GUZ3JAQ4</td>\n",
       "      <td>4.0</td>\n",
       "      <td>27.0</td>\n",
       "      <td>29.0</td>\n",
       "      <td>N</td>\n",
       "      <td>N</td>\n",
       "    </tr>\n",
       "    <tr>\n",
       "      <th>904763</th>\n",
       "      <td>R1VYXC7FFG4LGH</td>\n",
       "      <td>4.0</td>\n",
       "      <td>46.0</td>\n",
       "      <td>49.0</td>\n",
       "      <td>N</td>\n",
       "      <td>N</td>\n",
       "    </tr>\n",
       "    <tr>\n",
       "      <th>904764</th>\n",
       "      <td>R2XJJXFZOM36V5</td>\n",
       "      <td>5.0</td>\n",
       "      <td>17.0</td>\n",
       "      <td>19.0</td>\n",
       "      <td>N</td>\n",
       "      <td>N</td>\n",
       "    </tr>\n",
       "  </tbody>\n",
       "</table>\n",
       "<p>904765 rows × 6 columns</p>\n",
       "</div>"
      ],
      "text/plain": [
       "             review_id  star_rating  helpful_votes  total_votes vine  \\\n",
       "0        RMDCHWD0Y5OZ9          3.0            0.0          1.0    N   \n",
       "1        RZSL0BALIYUNU          5.0            0.0          0.0    N   \n",
       "2        RIZR67JKUDBI0          3.0            0.0          1.0    N   \n",
       "3       R27HL570VNL85F          5.0            0.0          0.0    N   \n",
       "4       R34EBU9QDWJ1GD          5.0            0.0          0.0    N   \n",
       "...                ...          ...            ...          ...  ...   \n",
       "904760   R6MDTUK723YPY          4.0          143.0        148.0    N   \n",
       "904761  R10B4417NCK98O          5.0           24.0         24.0    N   \n",
       "904762  R3V2A0GUZ3JAQ4          4.0           27.0         29.0    N   \n",
       "904763  R1VYXC7FFG4LGH          4.0           46.0         49.0    N   \n",
       "904764  R2XJJXFZOM36V5          5.0           17.0         19.0    N   \n",
       "\n",
       "       verified_purchase  \n",
       "0                      N  \n",
       "1                      Y  \n",
       "2                      Y  \n",
       "3                      Y  \n",
       "4                      Y  \n",
       "...                  ...  \n",
       "904760                 N  \n",
       "904761                 N  \n",
       "904762                 N  \n",
       "904763                 N  \n",
       "904764                 N  \n",
       "\n",
       "[904765 rows x 6 columns]"
      ]
     },
     "execution_count": 32,
     "metadata": {},
     "output_type": "execute_result"
    }
   ],
   "source": [
    "df"
   ]
  },
  {
   "cell_type": "code",
   "execution_count": 33,
   "id": "19bc1a75",
   "metadata": {},
   "outputs": [
    {
     "data": {
      "text/html": [
       "<div>\n",
       "<style scoped>\n",
       "    .dataframe tbody tr th:only-of-type {\n",
       "        vertical-align: middle;\n",
       "    }\n",
       "\n",
       "    .dataframe tbody tr th {\n",
       "        vertical-align: top;\n",
       "    }\n",
       "\n",
       "    .dataframe thead th {\n",
       "        text-align: right;\n",
       "    }\n",
       "</style>\n",
       "<table border=\"1\" class=\"dataframe\">\n",
       "  <thead>\n",
       "    <tr style=\"text-align: right;\">\n",
       "      <th></th>\n",
       "      <th>review_id</th>\n",
       "      <th>star_rating</th>\n",
       "      <th>helpful_votes</th>\n",
       "      <th>total_votes</th>\n",
       "      <th>vine</th>\n",
       "      <th>verified_purchase</th>\n",
       "    </tr>\n",
       "  </thead>\n",
       "  <tbody>\n",
       "    <tr>\n",
       "      <th>856852</th>\n",
       "      <td>R1M6MSBXCCETEF</td>\n",
       "      <td>5.0</td>\n",
       "      <td>19.0</td>\n",
       "      <td>24.0</td>\n",
       "      <td>N</td>\n",
       "      <td>Y</td>\n",
       "    </tr>\n",
       "    <tr>\n",
       "      <th>883057</th>\n",
       "      <td>R2C4FY1FSWI0N8</td>\n",
       "      <td>5.0</td>\n",
       "      <td>70.0</td>\n",
       "      <td>72.0</td>\n",
       "      <td>N</td>\n",
       "      <td>Y</td>\n",
       "    </tr>\n",
       "    <tr>\n",
       "      <th>900027</th>\n",
       "      <td>R24TFLO8WIVSYN</td>\n",
       "      <td>3.0</td>\n",
       "      <td>59.0</td>\n",
       "      <td>66.0</td>\n",
       "      <td>N</td>\n",
       "      <td>Y</td>\n",
       "    </tr>\n",
       "    <tr>\n",
       "      <th>879022</th>\n",
       "      <td>R3BT6QUK2ZHL10</td>\n",
       "      <td>5.0</td>\n",
       "      <td>54.0</td>\n",
       "      <td>60.0</td>\n",
       "      <td>N</td>\n",
       "      <td>Y</td>\n",
       "    </tr>\n",
       "    <tr>\n",
       "      <th>570927</th>\n",
       "      <td>R19S0BKXTLX3T3</td>\n",
       "      <td>5.0</td>\n",
       "      <td>53.0</td>\n",
       "      <td>56.0</td>\n",
       "      <td>N</td>\n",
       "      <td>N</td>\n",
       "    </tr>\n",
       "  </tbody>\n",
       "</table>\n",
       "</div>"
      ],
      "text/plain": [
       "             review_id  star_rating  helpful_votes  total_votes vine  \\\n",
       "856852  R1M6MSBXCCETEF          5.0           19.0         24.0    N   \n",
       "883057  R2C4FY1FSWI0N8          5.0           70.0         72.0    N   \n",
       "900027  R24TFLO8WIVSYN          3.0           59.0         66.0    N   \n",
       "879022  R3BT6QUK2ZHL10          5.0           54.0         60.0    N   \n",
       "570927  R19S0BKXTLX3T3          5.0           53.0         56.0    N   \n",
       "\n",
       "       verified_purchase  \n",
       "856852                 Y  \n",
       "883057                 Y  \n",
       "900027                 Y  \n",
       "879022                 Y  \n",
       "570927                 N  "
      ]
     },
     "execution_count": 33,
     "metadata": {},
     "output_type": "execute_result"
    }
   ],
   "source": [
    "filtered_df = df.loc[df['total_votes']>20]\n",
    "filtered_df.sample(5)"
   ]
  },
  {
   "cell_type": "code",
   "execution_count": 34,
   "id": "2c13b5c4",
   "metadata": {},
   "outputs": [
    {
     "data": {
      "text/html": [
       "<div>\n",
       "<style scoped>\n",
       "    .dataframe tbody tr th:only-of-type {\n",
       "        vertical-align: middle;\n",
       "    }\n",
       "\n",
       "    .dataframe tbody tr th {\n",
       "        vertical-align: top;\n",
       "    }\n",
       "\n",
       "    .dataframe thead th {\n",
       "        text-align: right;\n",
       "    }\n",
       "</style>\n",
       "<table border=\"1\" class=\"dataframe\">\n",
       "  <thead>\n",
       "    <tr style=\"text-align: right;\">\n",
       "      <th></th>\n",
       "      <th>review_id</th>\n",
       "      <th>star_rating</th>\n",
       "      <th>helpful_votes</th>\n",
       "      <th>total_votes</th>\n",
       "      <th>vine</th>\n",
       "      <th>verified_purchase</th>\n",
       "    </tr>\n",
       "  </thead>\n",
       "  <tbody>\n",
       "    <tr>\n",
       "      <th>880169</th>\n",
       "      <td>R23G10SRQ7LRBM</td>\n",
       "      <td>5.0</td>\n",
       "      <td>46.0</td>\n",
       "      <td>49.0</td>\n",
       "      <td>N</td>\n",
       "      <td>Y</td>\n",
       "    </tr>\n",
       "    <tr>\n",
       "      <th>886105</th>\n",
       "      <td>R21U7TFFMTRESK</td>\n",
       "      <td>2.0</td>\n",
       "      <td>27.0</td>\n",
       "      <td>29.0</td>\n",
       "      <td>N</td>\n",
       "      <td>Y</td>\n",
       "    </tr>\n",
       "    <tr>\n",
       "      <th>514798</th>\n",
       "      <td>R37ZRPIYCDKMHI</td>\n",
       "      <td>5.0</td>\n",
       "      <td>41.0</td>\n",
       "      <td>43.0</td>\n",
       "      <td>N</td>\n",
       "      <td>Y</td>\n",
       "    </tr>\n",
       "    <tr>\n",
       "      <th>873164</th>\n",
       "      <td>R3NCGLR52TA3M</td>\n",
       "      <td>5.0</td>\n",
       "      <td>41.0</td>\n",
       "      <td>43.0</td>\n",
       "      <td>N</td>\n",
       "      <td>Y</td>\n",
       "    </tr>\n",
       "    <tr>\n",
       "      <th>501115</th>\n",
       "      <td>R27OFCIH0VITGE</td>\n",
       "      <td>5.0</td>\n",
       "      <td>38.0</td>\n",
       "      <td>40.0</td>\n",
       "      <td>N</td>\n",
       "      <td>Y</td>\n",
       "    </tr>\n",
       "  </tbody>\n",
       "</table>\n",
       "</div>"
      ],
      "text/plain": [
       "             review_id  star_rating  helpful_votes  total_votes vine  \\\n",
       "880169  R23G10SRQ7LRBM          5.0           46.0         49.0    N   \n",
       "886105  R21U7TFFMTRESK          2.0           27.0         29.0    N   \n",
       "514798  R37ZRPIYCDKMHI          5.0           41.0         43.0    N   \n",
       "873164   R3NCGLR52TA3M          5.0           41.0         43.0    N   \n",
       "501115  R27OFCIH0VITGE          5.0           38.0         40.0    N   \n",
       "\n",
       "       verified_purchase  \n",
       "880169                 Y  \n",
       "886105                 Y  \n",
       "514798                 Y  \n",
       "873164                 Y  \n",
       "501115                 Y  "
      ]
     },
     "execution_count": 34,
     "metadata": {},
     "output_type": "execute_result"
    }
   ],
   "source": [
    "helpful_votes_df = filtered_df.loc[(filtered_df.helpful_votes / filtered_df.total_votes) >= .5]\n",
    "\n",
    "helpful_votes_df.sample(5)"
   ]
  },
  {
   "cell_type": "code",
   "execution_count": 53,
   "id": "161382fb",
   "metadata": {},
   "outputs": [
    {
     "data": {
      "text/plain": [
       "review_id            59\n",
       "star_rating          59\n",
       "helpful_votes        59\n",
       "total_votes          59\n",
       "vine                 59\n",
       "verified_purchase    59\n",
       "dtype: int64"
      ]
     },
     "execution_count": 53,
     "metadata": {},
     "output_type": "execute_result"
    }
   ],
   "source": [
    "vine_Y_df = helpful_votes_df.loc[df[\"vine\"]==\"Y\"]\n",
    "vine_Y_df.sample(5)\n"
   ]
  },
  {
   "cell_type": "code",
   "execution_count": 48,
   "id": "a660cb2b",
   "metadata": {},
   "outputs": [
    {
     "data": {
      "text/html": [
       "<div>\n",
       "<style scoped>\n",
       "    .dataframe tbody tr th:only-of-type {\n",
       "        vertical-align: middle;\n",
       "    }\n",
       "\n",
       "    .dataframe tbody tr th {\n",
       "        vertical-align: top;\n",
       "    }\n",
       "\n",
       "    .dataframe thead th {\n",
       "        text-align: right;\n",
       "    }\n",
       "</style>\n",
       "<table border=\"1\" class=\"dataframe\">\n",
       "  <thead>\n",
       "    <tr style=\"text-align: right;\">\n",
       "      <th></th>\n",
       "      <th>review_id</th>\n",
       "      <th>star_rating</th>\n",
       "      <th>helpful_votes</th>\n",
       "      <th>total_votes</th>\n",
       "      <th>vine</th>\n",
       "      <th>verified_purchase</th>\n",
       "    </tr>\n",
       "  </thead>\n",
       "  <tbody>\n",
       "    <tr>\n",
       "      <th>865506</th>\n",
       "      <td>R1C1C0MFZBOU2Z</td>\n",
       "      <td>5.0</td>\n",
       "      <td>20.0</td>\n",
       "      <td>22.0</td>\n",
       "      <td>N</td>\n",
       "      <td>Y</td>\n",
       "    </tr>\n",
       "    <tr>\n",
       "      <th>862067</th>\n",
       "      <td>RHBWH3AL0HE39</td>\n",
       "      <td>1.0</td>\n",
       "      <td>23.0</td>\n",
       "      <td>25.0</td>\n",
       "      <td>N</td>\n",
       "      <td>N</td>\n",
       "    </tr>\n",
       "    <tr>\n",
       "      <th>835164</th>\n",
       "      <td>R1ST5TJLH3E8VF</td>\n",
       "      <td>5.0</td>\n",
       "      <td>75.0</td>\n",
       "      <td>86.0</td>\n",
       "      <td>N</td>\n",
       "      <td>Y</td>\n",
       "    </tr>\n",
       "    <tr>\n",
       "      <th>527043</th>\n",
       "      <td>RDGHELQX4L9JI</td>\n",
       "      <td>4.0</td>\n",
       "      <td>56.0</td>\n",
       "      <td>58.0</td>\n",
       "      <td>N</td>\n",
       "      <td>N</td>\n",
       "    </tr>\n",
       "    <tr>\n",
       "      <th>864255</th>\n",
       "      <td>R36BQPE0IZXUGM</td>\n",
       "      <td>5.0</td>\n",
       "      <td>21.0</td>\n",
       "      <td>21.0</td>\n",
       "      <td>N</td>\n",
       "      <td>Y</td>\n",
       "    </tr>\n",
       "  </tbody>\n",
       "</table>\n",
       "</div>"
      ],
      "text/plain": [
       "             review_id  star_rating  helpful_votes  total_votes vine  \\\n",
       "865506  R1C1C0MFZBOU2Z          5.0           20.0         22.0    N   \n",
       "862067   RHBWH3AL0HE39          1.0           23.0         25.0    N   \n",
       "835164  R1ST5TJLH3E8VF          5.0           75.0         86.0    N   \n",
       "527043   RDGHELQX4L9JI          4.0           56.0         58.0    N   \n",
       "864255  R36BQPE0IZXUGM          5.0           21.0         21.0    N   \n",
       "\n",
       "       verified_purchase  \n",
       "865506                 Y  \n",
       "862067                 N  \n",
       "835164                 Y  \n",
       "527043                 N  \n",
       "864255                 Y  "
      ]
     },
     "execution_count": 48,
     "metadata": {},
     "output_type": "execute_result"
    }
   ],
   "source": [
    "vine_N_df = helpful_votes_df.loc[df[\"vine\"]==\"N\"]\n",
    "vine_N_df.sample(5)"
   ]
  },
  {
   "cell_type": "markdown",
   "id": "81a5df7b",
   "metadata": {},
   "source": [
    "## Determine the number of 5-Star reviews in the Paid reviewers vs unpaid reviewers"
   ]
  },
  {
   "cell_type": "markdown",
   "id": "37082d63",
   "metadata": {},
   "source": [
    "### Paid\n",
    "---"
   ]
  },
  {
   "cell_type": "code",
   "execution_count": 64,
   "id": "7a4609f9",
   "metadata": {},
   "outputs": [
    {
     "data": {
      "text/plain": [
       "59"
      ]
     },
     "execution_count": 64,
     "metadata": {},
     "output_type": "execute_result"
    }
   ],
   "source": [
    "num_Y_reviews = vine_Y_df.shape[0]\n",
    "num_Y_reviews"
   ]
  },
  {
   "cell_type": "code",
   "execution_count": 61,
   "id": "8cf37270",
   "metadata": {},
   "outputs": [
    {
     "data": {
      "text/plain": [
       "True     34\n",
       "False    25\n",
       "Name: star_rating, dtype: int64"
      ]
     },
     "execution_count": 61,
     "metadata": {},
     "output_type": "execute_result"
    }
   ],
   "source": [
    "Y_counts = (vine_Y_df.star_rating==5.0).value_counts()\n",
    "Y_counts "
   ]
  },
  {
   "cell_type": "code",
   "execution_count": 66,
   "id": "5958d72f",
   "metadata": {},
   "outputs": [
    {
     "data": {
      "text/plain": [
       "42.3728813559322"
      ]
     },
     "execution_count": 66,
     "metadata": {},
     "output_type": "execute_result"
    }
   ],
   "source": [
    "(Y_counts[0]/num_Y_reviews)*100"
   ]
  },
  {
   "cell_type": "markdown",
   "id": "6c9f717b",
   "metadata": {},
   "source": [
    "There are **34 5-Star ratings** in the Paid Vine Reviews. \n",
    "**42.37%** of the reivews are 5-Star"
   ]
  },
  {
   "cell_type": "markdown",
   "id": "c36ecf45",
   "metadata": {},
   "source": [
    "###### num_N_reviews = vine_N_df.shape[0]\n",
    "num_N_reviews"
   ]
  },
  {
   "cell_type": "code",
   "execution_count": 70,
   "id": "c7d33457",
   "metadata": {},
   "outputs": [
    {
     "data": {
      "text/plain": [
       "True     7678\n",
       "False    5802\n",
       "Name: star_rating, dtype: int64"
      ]
     },
     "execution_count": 70,
     "metadata": {},
     "output_type": "execute_result"
    }
   ],
   "source": [
    "N_counts = (vine_N_df.star_rating==5.0).value_counts()\n",
    "N_counts "
   ]
  },
  {
   "cell_type": "code",
   "execution_count": 71,
   "id": "708477f6",
   "metadata": {},
   "outputs": [
    {
     "data": {
      "text/plain": [
       "43.04154302670623"
      ]
     },
     "execution_count": 71,
     "metadata": {},
     "output_type": "execute_result"
    }
   ],
   "source": [
    "(N_counts[0]/num_N_reviews)*100"
   ]
  },
  {
   "cell_type": "markdown",
   "id": "5c6e5c01",
   "metadata": {},
   "source": [
    "There are **7678** 5-Star ratings in the **unpaid** Vine Reviews. \n",
    "**43.04%** of the reivews are 5-Star"
   ]
  },
  {
   "cell_type": "code",
   "execution_count": null,
   "id": "ed862810",
   "metadata": {},
   "outputs": [],
   "source": []
  }
 ],
 "metadata": {
  "kernelspec": {
   "display_name": "Python 3 (ipykernel)",
   "language": "python",
   "name": "python3"
  },
  "language_info": {
   "codemirror_mode": {
    "name": "ipython",
    "version": 3
   },
   "file_extension": ".py",
   "mimetype": "text/x-python",
   "name": "python",
   "nbconvert_exporter": "python",
   "pygments_lexer": "ipython3",
   "version": "3.7.13"
  }
 },
 "nbformat": 4,
 "nbformat_minor": 5
}
